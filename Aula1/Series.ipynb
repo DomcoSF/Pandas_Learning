{
  "nbformat": 4,
  "nbformat_minor": 0,
  "metadata": {
    "colab": {
      "provenance": [],
      "authorship_tag": "ABX9TyNdIW7yyYPSVCWaaVDHn9Pa",
      "include_colab_link": true
    },
    "kernelspec": {
      "name": "python3",
      "display_name": "Python 3"
    },
    "language_info": {
      "name": "python"
    }
  },
  "cells": [
    {
      "cell_type": "markdown",
      "metadata": {
        "id": "view-in-github",
        "colab_type": "text"
      },
      "source": [
        "<a href=\"https://colab.research.google.com/github/DomcoSF/Pandas_Learning/blob/main/Series.ipynb\" target=\"_parent\"><img src=\"https://colab.research.google.com/assets/colab-badge.svg\" alt=\"Open In Colab\"/></a>"
      ]
    },
    {
      "cell_type": "code",
      "execution_count": null,
      "metadata": {
        "id": "hfhZZuseJjBz"
      },
      "outputs": [],
      "source": [
        "import pandas as pd"
      ]
    },
    {
      "cell_type": "code",
      "source": [
        "idade = [31,33,2,29,60,58,31,45,24]"
      ],
      "metadata": {
        "id": "0U4pilreJpK2"
      },
      "execution_count": null,
      "outputs": []
    },
    {
      "cell_type": "code",
      "source": [
        "s_idade = pd.Series(idade)\n",
        "s_idade"
      ],
      "metadata": {
        "colab": {
          "base_uri": "https://localhost:8080/"
        },
        "id": "XT8bmxB_JymW",
        "outputId": "c956bcf9-c11a-44be-8e2c-5b84ecee3b2f"
      },
      "execution_count": null,
      "outputs": [
        {
          "output_type": "execute_result",
          "data": {
            "text/plain": [
              "0    31\n",
              "1    33\n",
              "2     2\n",
              "3    29\n",
              "4    60\n",
              "5    58\n",
              "6    31\n",
              "7    45\n",
              "8    24\n",
              "dtype: int64"
            ]
          },
          "metadata": {},
          "execution_count": 9
        }
      ]
    },
    {
      "cell_type": "code",
      "source": [
        "media = s_idade.mean()\n",
        "media"
      ],
      "metadata": {
        "colab": {
          "base_uri": "https://localhost:8080/"
        },
        "id": "AxQDf_rKKoZQ",
        "outputId": "efce34cd-9e88-4dbc-d915-18115f6d7087"
      },
      "execution_count": null,
      "outputs": [
        {
          "output_type": "execute_result",
          "data": {
            "text/plain": [
              "34.77777777777778"
            ]
          },
          "metadata": {},
          "execution_count": 10
        }
      ]
    },
    {
      "cell_type": "code",
      "source": [
        "variancia = s_idade.var()\n",
        "variancia"
      ],
      "metadata": {
        "colab": {
          "base_uri": "https://localhost:8080/"
        },
        "id": "IHRwn8vKKwUB",
        "outputId": "3a7a6a43-6ed2-4f98-edda-f251169645b8"
      },
      "execution_count": null,
      "outputs": [
        {
          "output_type": "execute_result",
          "data": {
            "text/plain": [
              "316.94444444444446"
            ]
          },
          "metadata": {},
          "execution_count": 11
        }
      ]
    },
    {
      "cell_type": "code",
      "source": [
        "des_pad = s_idade.std()\n",
        "des_pad"
      ],
      "metadata": {
        "colab": {
          "base_uri": "https://localhost:8080/"
        },
        "id": "deioTJvFK2ox",
        "outputId": "937a526e-43cc-48a2-9cd3-1238ec02d2cc"
      },
      "execution_count": null,
      "outputs": [
        {
          "output_type": "execute_result",
          "data": {
            "text/plain": [
              "17.802933590968777"
            ]
          },
          "metadata": {},
          "execution_count": 12
        }
      ]
    },
    {
      "cell_type": "code",
      "source": [
        "s_idade.describe()"
      ],
      "metadata": {
        "colab": {
          "base_uri": "https://localhost:8080/"
        },
        "id": "Tl7fJiwfLGUK",
        "outputId": "43c2014f-6dc0-4a10-879b-3a770981af3f"
      },
      "execution_count": null,
      "outputs": [
        {
          "output_type": "execute_result",
          "data": {
            "text/plain": [
              "count     9.000000\n",
              "mean     34.777778\n",
              "std      17.802934\n",
              "min       2.000000\n",
              "25%      29.000000\n",
              "50%      31.000000\n",
              "75%      45.000000\n",
              "max      60.000000\n",
              "dtype: float64"
            ]
          },
          "metadata": {},
          "execution_count": 13
        }
      ]
    },
    {
      "cell_type": "code",
      "source": [
        "nova_idade = []\n",
        "for i in idade:\n",
        "  if i>= 30:\n",
        "    nova_idade.append(i)\n",
        "\n",
        "nova_idade"
      ],
      "metadata": {
        "colab": {
          "base_uri": "https://localhost:8080/"
        },
        "id": "pd09Ftd-MeBI",
        "outputId": "4608ecf1-4507-4f81-9e0a-6b05e4968ee8"
      },
      "execution_count": null,
      "outputs": [
        {
          "output_type": "execute_result",
          "data": {
            "text/plain": [
              "[31, 33, 60, 58, 31, 45]"
            ]
          },
          "metadata": {},
          "execution_count": 14
        }
      ]
    },
    {
      "cell_type": "code",
      "source": [
        "filtro = s_idade >= 30\n",
        "s_idade[filtro]"
      ],
      "metadata": {
        "colab": {
          "base_uri": "https://localhost:8080/"
        },
        "id": "53fdRmnhMsEY",
        "outputId": "58ac10a7-670a-4e5c-a449-a96f80a7a5b3"
      },
      "execution_count": null,
      "outputs": [
        {
          "output_type": "execute_result",
          "data": {
            "text/plain": [
              "0    31\n",
              "1    33\n",
              "4    60\n",
              "5    58\n",
              "6    31\n",
              "7    45\n",
              "dtype: int64"
            ]
          },
          "metadata": {},
          "execution_count": 16
        }
      ]
    },
    {
      "cell_type": "code",
      "source": [
        "filtro = s_idade >= 30\n",
        "s_idade[~filtro]"
      ],
      "metadata": {
        "colab": {
          "base_uri": "https://localhost:8080/"
        },
        "id": "UkVBargtNq59",
        "outputId": "a240ed8a-c237-4c90-8245-95c269fdddd2"
      },
      "execution_count": null,
      "outputs": [
        {
          "output_type": "execute_result",
          "data": {
            "text/plain": [
              "2     2\n",
              "3    29\n",
              "8    24\n",
              "dtype: int64"
            ]
          },
          "metadata": {},
          "execution_count": 17
        }
      ]
    },
    {
      "cell_type": "code",
      "source": [],
      "metadata": {
        "id": "-B8LAWCHOKZN"
      },
      "execution_count": null,
      "outputs": []
    }
  ]
}